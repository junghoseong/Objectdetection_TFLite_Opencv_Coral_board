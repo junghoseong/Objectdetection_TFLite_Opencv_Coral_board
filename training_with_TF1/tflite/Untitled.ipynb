{
 "cells": [
  {
   "cell_type": "code",
   "execution_count": 6,
   "metadata": {},
   "outputs": [],
   "source": [
    "import tensorflow as tf\n",
    "import tensorflow.lite as lite\n",
    "from tensorflow.lite.python import lite_constants\n",
    "import sys\n"
   ]
  },
  {
   "cell_type": "code",
   "execution_count": 7,
   "metadata": {},
   "outputs": [],
   "source": [
    "# Converting a GraphDef from file.\n",
    "def from_frozen_graph(graph_def_file):\n",
    "    input_arrays = [\"normalized_input_image_tensor\"]\n",
    "    output_arrays = [\"TFLite_Detection_PostProcess\",\"TFLite_Detection_PostProcess:1\",\"TFLite_Detection_PostProcess:2\",\"TFLite_Detection_PostProcess:3\"]\n",
    "    input_shapes = {\"normalized_input_image_tensor\" : [1, 300, 300, 3]}\n",
    "    converter=tf.compat.v1.lite.TFLiteConverter.from_frozen_graph(graph_def_file, input_arrays, output_arrays, input_shapes)\n",
    "    #converter = lite.TFLiteConverter.from_frozen_graph(\n",
    "    #    graph_def_file, input_arrays, output_arrays, input_shapes)\n",
    "    return converter"
   ]
  },
  {
   "cell_type": "code",
   "execution_count": 8,
   "metadata": {},
   "outputs": [],
   "source": [
    "# Converting a SavedModel.\n",
    "def from_saved_model(saved_model_dir):\n",
    "    converter = lite.TFLiteConverter.from_saved_model(saved_model_dir)\n",
    "    return converter"
   ]
  },
  {
   "cell_type": "code",
   "execution_count": 9,
   "metadata": {},
   "outputs": [],
   "source": [
    "def convert(converter, out_name, is_quant):\n",
    "    converter.inference_type = lite_constants.QUANTIZED_UINT8 if is_quant else lite_constants.FLOAT\n",
    "    converter.output_format = lite_constants.TFLITE\n",
    "    converter.allow_custom_ops = True\n",
    "    #converter.optimizations=[tf.lite.Optimize.DEFAULT]\n",
    "    converter.quantized_input_stats = {\"normalized_input_image_tensor\": (128., 127.)} if is_quant else None\n",
    "    #converter.post_training_quantize = True\n",
    "    print(\"Converting...\")\n",
    "    tflite_model = converter.convert()\n",
    "    open(out_name, \"wb\").write(tflite_model)\n",
    "    print(\"tflite file: {}\".format(out_name))"
   ]
  },
  {
   "cell_type": "code",
   "execution_count": 10,
   "metadata": {},
   "outputs": [
    {
     "name": "stdout",
     "output_type": "stream",
     "text": [
      "Bottle.mp4\tUntitled1.ipynb  savedmodel  tflite_graph.pb\t video.py\n",
      "Untitled.ipynb\tdetect.tflite\t tflite      tflite_graph.pbtxt\n",
      "Converting...\n",
      "tflite file: detect.tflite\n"
     ]
    }
   ],
   "source": [
    "\"\"\"path = sys.argv[1]\n",
    "print(path)\n",
    "is_quant = \"quant\" in path.lower()\n",
    "print(\"is_quant: {}\".format(is_quant))\n",
    "\n",
    "if path.endswith(\".pb\"):\n",
    "    out_name = path[:-3] + \".tflite\"\n",
    "    converter = from_frozen_graph(path)\n",
    "else:\n",
    "    out_name = path + \".tflite\"\n",
    "    converter = from_saved_model(path)\n",
    "\"\"\"\n",
    "!ls\n",
    "#converter = from_saved_model(\"\")\n",
    "converter = from_frozen_graph(\"./tflite_graph.pb\")\n",
    "is_quant = True\n",
    "out_name = \"detect.tflite\"\n",
    "convert(converter, out_name, is_quant)"
   ]
  },
  {
   "cell_type": "code",
   "execution_count": null,
   "metadata": {},
   "outputs": [],
   "source": []
  },
  {
   "cell_type": "code",
   "execution_count": null,
   "metadata": {},
   "outputs": [],
   "source": []
  },
  {
   "cell_type": "code",
   "execution_count": null,
   "metadata": {},
   "outputs": [],
   "source": []
  }
 ],
 "metadata": {
  "kernelspec": {
   "display_name": "tf2",
   "language": "python",
   "name": "tf2"
  },
  "language_info": {
   "codemirror_mode": {
    "name": "ipython",
    "version": 3
   },
   "file_extension": ".py",
   "mimetype": "text/x-python",
   "name": "python",
   "nbconvert_exporter": "python",
   "pygments_lexer": "ipython3",
   "version": "3.7.9"
  }
 },
 "nbformat": 4,
 "nbformat_minor": 4
}
